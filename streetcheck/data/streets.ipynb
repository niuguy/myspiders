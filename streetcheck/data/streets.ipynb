{
 "metadata": {
  "language_info": {
   "codemirror_mode": {
    "name": "ipython",
    "version": 3
   },
   "file_extension": ".py",
   "mimetype": "text/x-python",
   "name": "python",
   "nbconvert_exporter": "python",
   "pygments_lexer": "ipython3",
   "version": "3.8.3-final"
  },
  "orig_nbformat": 2,
  "kernelspec": {
   "name": "python3",
   "display_name": "Python 3"
  }
 },
 "nbformat": 4,
 "nbformat_minor": 2,
 "cells": [
  {
   "cell_type": "code",
   "execution_count": 1,
   "metadata": {},
   "outputs": [],
   "source": [
    "import pandas as pd"
   ]
  },
  {
   "cell_type": "code",
   "execution_count": 3,
   "metadata": {},
   "outputs": [],
   "source": [
    "streets_df = pd.read_csv('streets.csv')"
   ]
  },
  {
   "cell_type": "code",
   "execution_count": 8,
   "metadata": {},
   "outputs": [
    {
     "output_type": "execute_result",
     "data": {
      "text/plain": "      cn_count street_code\n810       4770         e14\n136       3102         se1\n670       2928          s3\n1045      2630          m1\n545       2564         le2\n...        ...         ...\n1220       882          n4\n1244       870         eh8\n762        868         m11\n1057       865         sw8\n693        856          e2\n\n[100 rows x 2 columns]",
      "text/html": "<div>\n<style scoped>\n    .dataframe tbody tr th:only-of-type {\n        vertical-align: middle;\n    }\n\n    .dataframe tbody tr th {\n        vertical-align: top;\n    }\n\n    .dataframe thead th {\n        text-align: right;\n    }\n</style>\n<table border=\"1\" class=\"dataframe\">\n  <thead>\n    <tr style=\"text-align: right;\">\n      <th></th>\n      <th>cn_count</th>\n      <th>street_code</th>\n    </tr>\n  </thead>\n  <tbody>\n    <tr>\n      <th>810</th>\n      <td>4770</td>\n      <td>e14</td>\n    </tr>\n    <tr>\n      <th>136</th>\n      <td>3102</td>\n      <td>se1</td>\n    </tr>\n    <tr>\n      <th>670</th>\n      <td>2928</td>\n      <td>s3</td>\n    </tr>\n    <tr>\n      <th>1045</th>\n      <td>2630</td>\n      <td>m1</td>\n    </tr>\n    <tr>\n      <th>545</th>\n      <td>2564</td>\n      <td>le2</td>\n    </tr>\n    <tr>\n      <th>...</th>\n      <td>...</td>\n      <td>...</td>\n    </tr>\n    <tr>\n      <th>1220</th>\n      <td>882</td>\n      <td>n4</td>\n    </tr>\n    <tr>\n      <th>1244</th>\n      <td>870</td>\n      <td>eh8</td>\n    </tr>\n    <tr>\n      <th>762</th>\n      <td>868</td>\n      <td>m11</td>\n    </tr>\n    <tr>\n      <th>1057</th>\n      <td>865</td>\n      <td>sw8</td>\n    </tr>\n    <tr>\n      <th>693</th>\n      <td>856</td>\n      <td>e2</td>\n    </tr>\n  </tbody>\n</table>\n<p>100 rows × 2 columns</p>\n</div>"
     },
     "metadata": {},
     "execution_count": 8
    }
   ],
   "source": [
    "streets_df.sort_values(by='cn_count', ascending=False).head(100)"
   ]
  },
  {
   "cell_type": "code",
   "execution_count": 10,
   "metadata": {},
   "outputs": [
    {
     "output_type": "execute_result",
     "data": {
      "text/plain": "378973"
     },
     "metadata": {},
     "execution_count": 10
    }
   ],
   "source": [
    "streets_df['cn_count'].sum()"
   ]
  },
  {
   "cell_type": "code",
   "execution_count": 11,
   "metadata": {},
   "outputs": [],
   "source": [
    "postcodes_df = pd.read_csv('postcodes.csv')"
   ]
  },
  {
   "cell_type": "code",
   "execution_count": 47,
   "metadata": {},
   "outputs": [],
   "source": [
    "reading_filter_rg1 = postcodes_df[\"Postcode\"].str.startswith('RG1', na = False) "
   ]
  },
  {
   "cell_type": "code",
   "execution_count": 50,
   "metadata": {},
   "outputs": [],
   "source": [
    "reading_df_rg1 = postcodes_df[reading_filter]"
   ]
  },
  {
   "cell_type": "code",
   "execution_count": 20,
   "metadata": {},
   "outputs": [
    {
     "output_type": "execute_result",
     "data": {
      "text/plain": "45599"
     },
     "metadata": {},
     "execution_count": 20
    }
   ],
   "source": [
    "reading_df.Postcode.unique()"
   ]
  },
  {
   "cell_type": "code",
   "execution_count": 51,
   "metadata": {},
   "outputs": [],
   "source": [
    "reading_postcodes = pd.DataFrame(reading_df_rg1.Postcode.unique(), columns=['postcode'])"
   ]
  },
  {
   "cell_type": "code",
   "execution_count": 52,
   "metadata": {},
   "outputs": [],
   "source": [
    "reading_postcodes['postcode'] = reading_postcodes['postcode'].str.lower().replace(\" \",\"\")"
   ]
  },
  {
   "cell_type": "code",
   "execution_count": 53,
   "metadata": {},
   "outputs": [],
   "source": [
    "reading_postcodes.to_csv('reading_postcodes_rg1.csv')"
   ]
  },
  {
   "cell_type": "code",
   "execution_count": null,
   "metadata": {},
   "outputs": [],
   "source": []
  },
  {
   "cell_type": "code",
   "execution_count": 45,
   "metadata": {},
   "outputs": [],
   "source": [
    "reading_streets = pd.read_csv('items_reading_19.csv')"
   ]
  },
  {
   "cell_type": "code",
   "execution_count": 46,
   "metadata": {},
   "outputs": [
    {
     "output_type": "execute_result",
     "data": {
      "text/plain": "    _type  ab_people_rate  cn_count  cn_rate  fulltime_rate street_code  \\\n0  Street           0.433         3    0.012          0.544      rg11aa   \n1  Street           0.514         5    0.014          0.385      rg11af   \n2  Street           0.514         5    0.014          0.385      rg11ag   \n3  Street           0.581         6    0.028          0.702      rg11ah   \n4  Street           0.514         5    0.014          0.385      rg11aj   \n\n   white_rate  \n0       0.644  \n1       0.752  \n2       0.752  \n3       0.448  \n4       0.752  ",
      "text/html": "<div>\n<style scoped>\n    .dataframe tbody tr th:only-of-type {\n        vertical-align: middle;\n    }\n\n    .dataframe tbody tr th {\n        vertical-align: top;\n    }\n\n    .dataframe thead th {\n        text-align: right;\n    }\n</style>\n<table border=\"1\" class=\"dataframe\">\n  <thead>\n    <tr style=\"text-align: right;\">\n      <th></th>\n      <th>_type</th>\n      <th>ab_people_rate</th>\n      <th>cn_count</th>\n      <th>cn_rate</th>\n      <th>fulltime_rate</th>\n      <th>street_code</th>\n      <th>white_rate</th>\n    </tr>\n  </thead>\n  <tbody>\n    <tr>\n      <th>0</th>\n      <td>Street</td>\n      <td>0.433</td>\n      <td>3</td>\n      <td>0.012</td>\n      <td>0.544</td>\n      <td>rg11aa</td>\n      <td>0.644</td>\n    </tr>\n    <tr>\n      <th>1</th>\n      <td>Street</td>\n      <td>0.514</td>\n      <td>5</td>\n      <td>0.014</td>\n      <td>0.385</td>\n      <td>rg11af</td>\n      <td>0.752</td>\n    </tr>\n    <tr>\n      <th>2</th>\n      <td>Street</td>\n      <td>0.514</td>\n      <td>5</td>\n      <td>0.014</td>\n      <td>0.385</td>\n      <td>rg11ag</td>\n      <td>0.752</td>\n    </tr>\n    <tr>\n      <th>3</th>\n      <td>Street</td>\n      <td>0.581</td>\n      <td>6</td>\n      <td>0.028</td>\n      <td>0.702</td>\n      <td>rg11ah</td>\n      <td>0.448</td>\n    </tr>\n    <tr>\n      <th>4</th>\n      <td>Street</td>\n      <td>0.514</td>\n      <td>5</td>\n      <td>0.014</td>\n      <td>0.385</td>\n      <td>rg11aj</td>\n      <td>0.752</td>\n    </tr>\n  </tbody>\n</table>\n</div>"
     },
     "metadata": {},
     "execution_count": 46
    }
   ],
   "source": [
    "reading_streets.head()"
   ]
  },
  {
   "cell_type": "code",
   "execution_count": 42,
   "metadata": {},
   "outputs": [
    {
     "output_type": "execute_result",
     "data": {
      "text/plain": "      cn_count street_code\n1123       101      rg15ja\n1131       101      rg15jl\n1132       101      rg15jn\n1122        37      rg15hz\n1136        37      rg15js\n...        ...         ...\n1925         1      rg18lh\n1751         1      rg17uy\n1750         1      rg17uw\n1924         1      rg18lg\n1868         1      rg18ew\n\n[2156 rows x 2 columns]",
      "text/html": "<div>\n<style scoped>\n    .dataframe tbody tr th:only-of-type {\n        vertical-align: middle;\n    }\n\n    .dataframe tbody tr th {\n        vertical-align: top;\n    }\n\n    .dataframe thead th {\n        text-align: right;\n    }\n</style>\n<table border=\"1\" class=\"dataframe\">\n  <thead>\n    <tr style=\"text-align: right;\">\n      <th></th>\n      <th>cn_count</th>\n      <th>street_code</th>\n    </tr>\n  </thead>\n  <tbody>\n    <tr>\n      <th>1123</th>\n      <td>101</td>\n      <td>rg15ja</td>\n    </tr>\n    <tr>\n      <th>1131</th>\n      <td>101</td>\n      <td>rg15jl</td>\n    </tr>\n    <tr>\n      <th>1132</th>\n      <td>101</td>\n      <td>rg15jn</td>\n    </tr>\n    <tr>\n      <th>1122</th>\n      <td>37</td>\n      <td>rg15hz</td>\n    </tr>\n    <tr>\n      <th>1136</th>\n      <td>37</td>\n      <td>rg15js</td>\n    </tr>\n    <tr>\n      <th>...</th>\n      <td>...</td>\n      <td>...</td>\n    </tr>\n    <tr>\n      <th>1925</th>\n      <td>1</td>\n      <td>rg18lh</td>\n    </tr>\n    <tr>\n      <th>1751</th>\n      <td>1</td>\n      <td>rg17uy</td>\n    </tr>\n    <tr>\n      <th>1750</th>\n      <td>1</td>\n      <td>rg17uw</td>\n    </tr>\n    <tr>\n      <th>1924</th>\n      <td>1</td>\n      <td>rg18lg</td>\n    </tr>\n    <tr>\n      <th>1868</th>\n      <td>1</td>\n      <td>rg18ew</td>\n    </tr>\n  </tbody>\n</table>\n<p>2156 rows × 2 columns</p>\n</div>"
     },
     "metadata": {},
     "execution_count": 42
    }
   ],
   "source": [
    "reading_streets.sort_values(by='cn_count', ascending=False)"
   ]
  },
  {
   "cell_type": "code",
   "execution_count": null,
   "metadata": {},
   "outputs": [],
   "source": []
  }
 ]
}