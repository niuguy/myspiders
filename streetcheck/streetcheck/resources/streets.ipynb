{
 "metadata": {
  "language_info": {
   "codemirror_mode": {
    "name": "ipython",
    "version": 3
   },
   "file_extension": ".py",
   "mimetype": "text/x-python",
   "name": "python",
   "nbconvert_exporter": "python",
   "pygments_lexer": "ipython3",
   "version": "3.8.3-final"
  },
  "orig_nbformat": 2,
  "kernelspec": {
   "name": "python3",
   "display_name": "Python 3"
  }
 },
 "nbformat": 4,
 "nbformat_minor": 2,
 "cells": [
  {
   "cell_type": "code",
   "execution_count": 1,
   "metadata": {},
   "outputs": [],
   "source": [
    "import pandas as pd"
   ]
  },
  {
   "cell_type": "code",
   "execution_count": 3,
   "metadata": {},
   "outputs": [],
   "source": [
    "streets_df = pd.read_csv('streets.csv')"
   ]
  },
  {
   "cell_type": "code",
   "execution_count": 8,
   "metadata": {},
   "outputs": [
    {
     "output_type": "execute_result",
     "data": {
      "text/plain": "      cn_count street_code\n810       4770         e14\n136       3102         se1\n670       2928          s3\n1045      2630          m1\n545       2564         le2\n...        ...         ...\n1220       882          n4\n1244       870         eh8\n762        868         m11\n1057       865         sw8\n693        856          e2\n\n[100 rows x 2 columns]",
      "text/html": "<div>\n<style scoped>\n    .dataframe tbody tr th:only-of-type {\n        vertical-align: middle;\n    }\n\n    .dataframe tbody tr th {\n        vertical-align: top;\n    }\n\n    .dataframe thead th {\n        text-align: right;\n    }\n</style>\n<table border=\"1\" class=\"dataframe\">\n  <thead>\n    <tr style=\"text-align: right;\">\n      <th></th>\n      <th>cn_count</th>\n      <th>street_code</th>\n    </tr>\n  </thead>\n  <tbody>\n    <tr>\n      <th>810</th>\n      <td>4770</td>\n      <td>e14</td>\n    </tr>\n    <tr>\n      <th>136</th>\n      <td>3102</td>\n      <td>se1</td>\n    </tr>\n    <tr>\n      <th>670</th>\n      <td>2928</td>\n      <td>s3</td>\n    </tr>\n    <tr>\n      <th>1045</th>\n      <td>2630</td>\n      <td>m1</td>\n    </tr>\n    <tr>\n      <th>545</th>\n      <td>2564</td>\n      <td>le2</td>\n    </tr>\n    <tr>\n      <th>...</th>\n      <td>...</td>\n      <td>...</td>\n    </tr>\n    <tr>\n      <th>1220</th>\n      <td>882</td>\n      <td>n4</td>\n    </tr>\n    <tr>\n      <th>1244</th>\n      <td>870</td>\n      <td>eh8</td>\n    </tr>\n    <tr>\n      <th>762</th>\n      <td>868</td>\n      <td>m11</td>\n    </tr>\n    <tr>\n      <th>1057</th>\n      <td>865</td>\n      <td>sw8</td>\n    </tr>\n    <tr>\n      <th>693</th>\n      <td>856</td>\n      <td>e2</td>\n    </tr>\n  </tbody>\n</table>\n<p>100 rows × 2 columns</p>\n</div>"
     },
     "metadata": {},
     "execution_count": 8
    }
   ],
   "source": [
    "streets_df.sort_values(by='cn_count', ascending=False).head(100)"
   ]
  },
  {
   "cell_type": "code",
   "execution_count": 10,
   "metadata": {},
   "outputs": [
    {
     "output_type": "execute_result",
     "data": {
      "text/plain": "378973"
     },
     "metadata": {},
     "execution_count": 10
    }
   ],
   "source": [
    "streets_df['cn_count'].sum()"
   ]
  },
  {
   "cell_type": "code",
   "execution_count": 11,
   "metadata": {},
   "outputs": [],
   "source": [
    "postcodes_df = pd.read_csv('postcodes.csv')"
   ]
  },
  {
   "cell_type": "code",
   "execution_count": 16,
   "metadata": {},
   "outputs": [],
   "source": [
    "reading_filter = postcodes_df[\"Postcode\"].str.startswith('RG', na = False) "
   ]
  },
  {
   "cell_type": "code",
   "execution_count": 17,
   "metadata": {},
   "outputs": [],
   "source": [
    "reading_df = postcodes_df[reading_filter]"
   ]
  },
  {
   "cell_type": "code",
   "execution_count": 20,
   "metadata": {},
   "outputs": [
    {
     "output_type": "execute_result",
     "data": {
      "text/plain": "45599"
     },
     "metadata": {},
     "execution_count": 20
    }
   ],
   "source": [
    "reading_df.Postcode.unique()"
   ]
  },
  {
   "cell_type": "code",
   "execution_count": 21,
   "metadata": {},
   "outputs": [],
   "source": [
    "reading_postcodes = pd.DataFrame(reading_df.Postcode.unique(), columns=['postcode'])"
   ]
  },
  {
   "cell_type": "code",
   "execution_count": 37,
   "metadata": {},
   "outputs": [],
   "source": [
    "reading_postcodes['postcode'] = reading_postcodes['postcode'].str.lower().replace(\" \",\"\")"
   ]
  },
  {
   "cell_type": "code",
   "execution_count": 34,
   "metadata": {},
   "outputs": [],
   "source": [
    "reading_postcodes.to_csv('reading_postcodes.csv')"
   ]
  },
  {
   "cell_type": "code",
   "execution_count": null,
   "metadata": {},
   "outputs": [],
   "source": []
  },
  {
   "cell_type": "code",
   "execution_count": 40,
   "metadata": {},
   "outputs": [],
   "source": [
    "reading_streets = pd.read_csv('reading_streets.csv')"
   ]
  },
  {
   "cell_type": "code",
   "execution_count": 41,
   "metadata": {},
   "outputs": [
    {
     "output_type": "execute_result",
     "data": {
      "text/plain": "   cn_count street_code\n0         3      rg11aa\n1         5      rg11at\n2         6      rg11as\n3         5      rg11aj\n4         5      rg11ar",
      "text/html": "<div>\n<style scoped>\n    .dataframe tbody tr th:only-of-type {\n        vertical-align: middle;\n    }\n\n    .dataframe tbody tr th {\n        vertical-align: top;\n    }\n\n    .dataframe thead th {\n        text-align: right;\n    }\n</style>\n<table border=\"1\" class=\"dataframe\">\n  <thead>\n    <tr style=\"text-align: right;\">\n      <th></th>\n      <th>cn_count</th>\n      <th>street_code</th>\n    </tr>\n  </thead>\n  <tbody>\n    <tr>\n      <th>0</th>\n      <td>3</td>\n      <td>rg11aa</td>\n    </tr>\n    <tr>\n      <th>1</th>\n      <td>5</td>\n      <td>rg11at</td>\n    </tr>\n    <tr>\n      <th>2</th>\n      <td>6</td>\n      <td>rg11as</td>\n    </tr>\n    <tr>\n      <th>3</th>\n      <td>5</td>\n      <td>rg11aj</td>\n    </tr>\n    <tr>\n      <th>4</th>\n      <td>5</td>\n      <td>rg11ar</td>\n    </tr>\n  </tbody>\n</table>\n</div>"
     },
     "metadata": {},
     "execution_count": 41
    }
   ],
   "source": [
    "reading_streets.head()"
   ]
  },
  {
   "cell_type": "code",
   "execution_count": null,
   "metadata": {},
   "outputs": [],
   "source": [
    "reading_streets.sort_values(by='cn_count', ascending=False)"
   ]
  }
 ]
}